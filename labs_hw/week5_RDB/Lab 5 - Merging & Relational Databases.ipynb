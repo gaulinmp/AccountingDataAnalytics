{
 "cells": [
  {
   "cell_type": "markdown",
   "metadata": {},
   "source": [
    "# Lab 5: Merging & Relational Databases\n",
    "\n",
    "<a href=\"https://colab.research.google.com/github/gaulinmp/AccountingDataAnalytics/blob/main/labs_hw/week5_RDB/Lab%205%20-%20Merging%20%26%20Relational%20Databases.ipynb\" target=\"_parent\">\n",
    "<img src=\"https://colab.research.google.com/assets/colab-badge.svg\" alt=\"Open In Colab\"/>\n",
    "</a>\n",
    "\n",
    "1. Connect to the PostgreSQL database\n",
    "2. Explore the CRSP data structure, identifying what stock related variables are available\n",
    "3. Download daily returns data for the tickers `AAPL`, `MSFT`, and `GOOGL`\n",
    "4. Aggregate daily returns to monthly frequency\n",
    "5. Create visualizations of daily returns, monthly returns, and trading volume\n",
    "   1. Line chart of daily returns for the 3 tickers over at least 5 years (starting January 2020 or earlier)\n",
    "   2. Line chart of daily trading volume for the same tickers\n",
    "   3. Line chart of monthly returns for the same 3 tickers over the same time period\n",
    "   4. Line chart of the monthly trading volume for the same tickers"
   ]
  },
  {
   "cell_type": "markdown",
   "metadata": {},
   "source": [
    "## Step 1: Import Libraries and Connect to Database\n",
    "\n",
    "The code below imports the required libraries and sets up some code that will connect to the PostgreSQL database. \n",
    "Make sure to replace the placeholder values with the actual connection details provided in Canvas.\n",
    "\n",
    "The function below, `read_sql`, will wrap all the code needed to connect to the database, run a SQL query, and return the results as a pandas DataFrame.\n",
    "So all you have to do is `df = read_sql(\"SELECT * FROM crsp_daily WHERE ticker IN ('AAPL', 'MSFT', 'GOOGL')\")` to get the data you need."
   ]
  },
  {
   "cell_type": "code",
   "execution_count": null,
   "metadata": {},
   "outputs": [],
   "source": [
    "!pip install psycopg"
   ]
  },
  {
   "cell_type": "code",
   "execution_count": null,
   "metadata": {
    "execution": {
     "iopub.execute_input": "2025-09-13T04:35:10.031532Z",
     "iopub.status.busy": "2025-09-13T04:35:10.031102Z",
     "iopub.status.idle": "2025-09-13T04:35:10.041938Z",
     "shell.execute_reply": "2025-09-13T04:35:10.040939Z",
     "shell.execute_reply.started": "2025-09-13T04:35:10.031494Z"
    }
   },
   "outputs": [],
   "source": [
    "# Import required libraries\n",
    "import pandas as pd\n",
    "import matplotlib.pyplot as plt\n",
    "import seaborn as sns\n",
    "from IPython.display import display\n",
    "from contextlib import contextmanager\n",
    "from sqlalchemy import create_engine, inspect, text\n",
    "from sqlalchemy.orm import sessionmaker\n",
    "import urllib\n",
    "\n",
    "db_name = 'ADA_SQL'\n",
    "db_host = \"COPY FROM CANVAS\"\n",
    "db_user = 'student'\n",
    "db_password = \"COPY FROM CANVAS\"\n",
    "db_port = '5432'\n",
    "\n",
    "db_url = f\"postgresql+psycopg://{db_user}:{urllib.parse.quote(db_password)}@{db_host}:{db_port}/{db_name}\"\n",
    "\n",
    "@contextmanager\n",
    "def session_scope(debug=False):\n",
    "    global db_engine, db_url\n",
    "    db_engine = create_engine(db_url, pool_pre_ping=True, echo=debug)\n",
    "    Session = sessionmaker(bind=db_engine)\n",
    "    session = Session()\n",
    "    try:\n",
    "        # this is where the \"work\" happens!\n",
    "        yield session\n",
    "        # always commit changes!\n",
    "        session.commit()\n",
    "    except:\n",
    "        # if any kind of exception occurs, rollback transaction\n",
    "        session.rollback()\n",
    "        raise\n",
    "    finally:\n",
    "        session.close()\n",
    "        db_engine.dispose()\n",
    "\n",
    "def read_sql(query):\n",
    "    with session_scope() as session:\n",
    "        return pd.read_sql(query, session.bind)"
   ]
  },
  {
   "cell_type": "markdown",
   "metadata": {},
   "source": [
    "## Step 2: Extract the data from the database\n",
    "\n",
    "I've wrapped the annoying part of connecting to the database and running a SQL query into the `read_sql` function above.\n",
    "So you can just play around with SQL queries and call `read_sql` to get the data you need."
   ]
  },
  {
   "cell_type": "code",
   "execution_count": null,
   "metadata": {
    "execution": {
     "iopub.execute_input": "2025-09-13T04:35:18.889155Z",
     "iopub.status.busy": "2025-09-13T04:35:18.888719Z",
     "iopub.status.idle": "2025-09-13T04:35:19.507775Z",
     "shell.execute_reply": "2025-09-13T04:35:19.506990Z",
     "shell.execute_reply.started": "2025-09-13T04:35:18.889106Z"
    }
   },
   "outputs": [],
   "source": [
    "try:\n",
    "    # Check data coverage and structure\n",
    "    query = \"\"\"\n",
    "    SELECT DISTINCT\n",
    "        MIN(date) as min_date,\n",
    "        MAX(date) as max_date,\n",
    "        COUNT(DISTINCT ticker) as num_companies,\n",
    "        COUNT(*) as total_records\n",
    "    FROM crsp_daily;\n",
    "    \"\"\"\n",
    "\n",
    "    display(read_sql(query))\n",
    "except Exception as e:\n",
    "    print(f\"💀 Cannot explore data - no database connection. Error: {e}\")"
   ]
  },
  {
   "cell_type": "code",
   "execution_count": null,
   "metadata": {
    "execution": {
     "iopub.execute_input": "2025-09-13T04:35:30.560916Z",
     "iopub.status.busy": "2025-09-13T04:35:30.560491Z",
     "iopub.status.idle": "2025-09-13T04:35:30.690389Z",
     "shell.execute_reply": "2025-09-13T04:35:30.689363Z",
     "shell.execute_reply.started": "2025-09-13T04:35:30.560880Z"
    }
   },
   "outputs": [],
   "source": [
    "try:\n",
    "    sql_query = \"\"\"\n",
    "    SELECT *\n",
    "    FROM crsp_daily\n",
    "    WHERE ticker IN ('AAPL', 'MSFT', 'GOOGL')\n",
    "    AND date >= '2020-01-01'\n",
    "    ORDER BY ticker, date;\n",
    "    \"\"\"\n",
    "\n",
    "    df_raw = read_sql(sql_query)\n",
    "    print(f\"🥳 Successfully read {len(df_raw):,} rows from the database\")\n",
    "except Exception as e:\n",
    "    print(f\"💀 Cannot explore data - no database connection. Error: {e}\")"
   ]
  },
  {
   "cell_type": "markdown",
   "metadata": {},
   "source": [
    "## Step 3: Clean and Describe the data"
   ]
  },
  {
   "cell_type": "code",
   "execution_count": null,
   "metadata": {
    "execution": {
     "iopub.execute_input": "2025-09-13T04:35:39.641118Z",
     "iopub.status.busy": "2025-09-13T04:35:39.640672Z",
     "iopub.status.idle": "2025-09-13T04:35:39.659260Z",
     "shell.execute_reply": "2025-09-13T04:35:39.658302Z",
     "shell.execute_reply.started": "2025-09-13T04:35:39.641081Z"
    }
   },
   "outputs": [],
   "source": [
    "# It's good to keep a raw version of the data, so if you mess something up, you can always go back to the original\n",
    "df = df_raw.copy()\n",
    "# Look at the first few rows\n",
    "df.head()"
   ]
  },
  {
   "cell_type": "code",
   "execution_count": null,
   "metadata": {
    "execution": {
     "iopub.execute_input": "2025-09-13T04:35:41.756108Z",
     "iopub.status.busy": "2025-09-13T04:35:41.755674Z",
     "iopub.status.idle": "2025-09-13T04:35:41.763637Z",
     "shell.execute_reply": "2025-09-13T04:35:41.762558Z",
     "shell.execute_reply.started": "2025-09-13T04:35:41.756070Z"
    }
   },
   "outputs": [],
   "source": [
    "# Convert date to datetime\n",
    "df['date'] = pd.to_datetime(df['date'])"
   ]
  },
  {
   "cell_type": "code",
   "execution_count": null,
   "metadata": {
    "execution": {
     "iopub.execute_input": "2025-09-13T04:35:43.628877Z",
     "iopub.status.busy": "2025-09-13T04:35:43.627909Z",
     "iopub.status.idle": "2025-09-13T04:35:43.670045Z",
     "shell.execute_reply": "2025-09-13T04:35:43.669065Z",
     "shell.execute_reply.started": "2025-09-13T04:35:43.628836Z"
    }
   },
   "outputs": [],
   "source": [
    "# Look at summary statistics\n",
    "df.describe(include='all')"
   ]
  },
  {
   "cell_type": "code",
   "execution_count": null,
   "metadata": {
    "execution": {
     "iopub.execute_input": "2025-09-13T04:43:14.416679Z",
     "iopub.status.busy": "2025-09-13T04:43:14.416232Z",
     "iopub.status.idle": "2025-09-13T04:43:14.487943Z",
     "shell.execute_reply": "2025-09-13T04:43:14.486838Z",
     "shell.execute_reply.started": "2025-09-13T04:43:14.416639Z"
    }
   },
   "outputs": [],
   "source": [
    "# Add monthly returns\n",
    "df_monthly = (\n",
    "    df\n",
    "    # groupby can take column names, but can also just take columns themselves\n",
    "    .groupby([df.ticker, df.date.dt.to_period(\"M\")])\n",
    "    # Agg calculates the following columns, where it's :\n",
    "    # new column name=(column to calculate, calculation function)\n",
    "    .agg(\n",
    "        cumulative_return=('ret', lambda x: (1 + x).prod() - 1),  # Compound returns\n",
    "        ave_ret=('ret', 'mean'),  # Average returns\n",
    "        vol=('vol', 'sum'),  # Total monthly volume\n",
    "        date_last_of_month=('date', 'last'),  # End of month date\n",
    "        shrout=('shrout', 'last'),  # End of month shares outstanding\n",
    "        prc=('prc', 'last')   # End of month price\n",
    "    )\n",
    "    .reset_index()\n",
    ")\n",
    "\n",
    "df_monthly.head()"
   ]
  },
  {
   "cell_type": "code",
   "execution_count": null,
   "metadata": {
    "execution": {
     "iopub.execute_input": "2025-09-13T04:43:32.440365Z",
     "iopub.status.busy": "2025-09-13T04:43:32.439953Z",
     "iopub.status.idle": "2025-09-13T04:43:32.477232Z",
     "shell.execute_reply": "2025-09-13T04:43:32.476180Z",
     "shell.execute_reply.started": "2025-09-13T04:43:32.440328Z"
    }
   },
   "outputs": [],
   "source": [
    "df_monthly.describe(include='all').T"
   ]
  },
  {
   "cell_type": "markdown",
   "metadata": {},
   "source": [
    "## Step 4: Create Charts"
   ]
  },
  {
   "cell_type": "code",
   "execution_count": null,
   "metadata": {
    "execution": {
     "iopub.execute_input": "2025-09-13T04:44:01.276889Z",
     "iopub.status.busy": "2025-09-13T04:44:01.276438Z",
     "iopub.status.idle": "2025-09-13T04:44:01.600007Z",
     "shell.execute_reply": "2025-09-13T04:44:01.599481Z",
     "shell.execute_reply.started": "2025-09-13T04:44:01.276850Z"
    }
   },
   "outputs": [],
   "source": [
    "# Chart 1. Line chart of daily returns for the 3 tickers over at least 5 years (starting January 2020 or earlier)\n",
    "sns.lineplot(data=df, x='CHOOSE X VARIABLE', y='CHOOSE Y VARIABLE', hue='HUE WILL MAKE SEPARATE LINES')\n",
    "plt.savefig('chart1_daily_returns.png', dpi=300)"
   ]
  },
  {
   "cell_type": "code",
   "execution_count": null,
   "metadata": {},
   "outputs": [],
   "source": [
    "# Chart 2. Line chart of daily trading volume for the same tickers\n",
    "sns.lineplot(data=df, x='CHOOSE X VARIABLE', y='CHOOSE Y VARIABLE', hue='HUE WILL MAKE SEPARATE LINES')\n",
    "plt.savefig('chart2_daily_volume.png', dpi=300)"
   ]
  },
  {
   "cell_type": "code",
   "execution_count": null,
   "metadata": {},
   "outputs": [],
   "source": [
    "# Chart 3. Line chart of monthly returns for the same 3 tickers over the same time period\n",
    "sns.lineplot(data=df_monthly, x='CHOOSE X VARIABLE', y='CHOOSE Y VARIABLE', hue='HUE WILL MAKE SEPARATE LINES')\n",
    "plt.savefig('chart3_monthly_returns.png', dpi=300)"
   ]
  },
  {
   "cell_type": "code",
   "execution_count": null,
   "metadata": {},
   "outputs": [],
   "source": [
    "# Chart 4. Line chart of the monthly trading volume for the same tickers\n",
    "sns.lineplot(data=df_monthly, x='CHOOSE X VARIABLE', y='CHOOSE Y VARIABLE', hue='HUE WILL MAKE SEPARATE LINES')\n",
    "plt.savefig('chart4_monthly_volume.png', dpi=300)"
   ]
  }
 ],
 "metadata": {
  "kernelspec": {
   "display_name": "Python 3 (ipykernel)",
   "language": "python",
   "name": "python3"
  },
  "language_info": {
   "codemirror_mode": {
    "name": "ipython",
    "version": 3
   },
   "file_extension": ".py",
   "mimetype": "text/x-python",
   "name": "python",
   "nbconvert_exporter": "python",
   "pygments_lexer": "ipython3",
   "version": "3.10.14"
  }
 },
 "nbformat": 4,
 "nbformat_minor": 4
}
